{
 "cells": [
  {
   "cell_type": "code",
   "execution_count": null,
   "id": "441402b0",
   "metadata": {},
   "outputs": [],
   "source": [
    "import pandas as pd#this is just for seeing that code works but this is not the training code\n",
    "df1=pd.read_csv(\"C:\\\\Users\\\\Ankit Rai\\\\Downloads\\\\stock\\\\stock_data6.csv\")\n",
    "df2=pd.read_csv(\"C:\\\\Users\\\\Ankit Rai\\\\Downloads\\\\stock\\\\hourly_market_trends_with_directions.csv\")"
   ]
  },
  {
   "cell_type": "code",
   "execution_count": 2,
   "id": "9fc3bf25",
   "metadata": {},
   "outputs": [],
   "source": [
    "df1\n",
    "df1['Datetime'] = pd.to_datetime(df1['date']).dt.date\n",
    "\n",
    "# Convert 'Date' in df2 to datetime object and extract date (just in case, though it may already be in the correct format)\n",
    "df2['Datetime'] = pd.to_datetime(df2['Timestamp']).dt.date\n",
    "df = pd.merge(df1, df2, on='Datetime', how='inner')\n",
    "df\n",
    "df['Sentiment'] = df['Sentiment'].map({'Positive': 1, 'Negative': -1, 'Neutral': 0})\n",
    "df['Direction'] = df['Direction'].map({'Increased': 1, 'Decreased': -1, 'No Change': 0})\n",
    "negative_count = df[df[\"Sentiment\"] == -1].shape[0]\n",
    "negative_count\n",
    "df = df.dropna()"
   ]
  },
  {
   "cell_type": "code",
   "execution_count": null,
   "id": "7174aa86",
   "metadata": {},
   "outputs": [
    {
     "name": "stdout",
     "output_type": "stream",
     "text": [
      "Fitting 3 folds for each of 216 candidates, totalling 648 fits\n"
     ]
    }
   ],
   "source": [
    "import pandas as pd\n",
    "import numpy as np\n",
    "from sklearn.feature_extraction.text import TfidfVectorizer\n",
    "from sklearn.model_selection import train_test_split, GridSearchCV\n",
    "from sklearn.ensemble import RandomForestClassifier\n",
    "from sklearn.metrics import classification_report\n",
    "from textblob import TextBlob\n",
    "import re\n",
    "\n",
    "# Heuristic Features\n",
    "financial_keywords = ['stock', 'price', 'earnings', 'shares', 'market']\n",
    "\n",
    "# Ensure 'date' column is parsed as datetime\n",
    "df['date'] = pd.to_datetime(df['date'])\n",
    "\n",
    "df['text_length'] = df['message'].apply(len)\n",
    "df['word_count'] = df['message'].apply(lambda x: len(x.split()))\n",
    "df['keyword_count'] = df['message'].apply(lambda x: sum(1 for word in financial_keywords if word in x.lower()))\n",
    "df['has_ticker'] = df['message'].apply(lambda x: 1 if re.search(r'\\$\\w+', x) else 0)\n",
    "df['polarity_score'] = df['message'].apply(lambda x: TextBlob(x).sentiment.polarity)\n",
    "df['hour_of_day'] = df['date'].dt.hour\n",
    "df['day_of_week'] = df['date'].dt.dayofweek\n",
    "df['is_weekend'] = df['day_of_week'].apply(lambda x: 1 if x >= 5 else 0)\n",
    "df['is_pre_market'] = df['hour_of_day'].apply(lambda x: 1 if x < 9 else 0)\n",
    "df['is_post_market'] = df['hour_of_day'].apply(lambda x: 1 if x > 16 else 0)\n",
    "\n",
    "# TF-IDF Vectorization\n",
    "tfidf = TfidfVectorizer(max_features=100)\n",
    "tfidf_features = tfidf.fit_transform(df['message']).toarray()\n",
    "\n",
    "# Combine TF-IDF with Heuristic Features\n",
    "heuristic_features = df[['text_length', 'word_count', 'keyword_count', 'has_ticker', 'polarity_score',\n",
    "                         'hour_of_day', 'day_of_week', 'is_weekend', 'is_pre_market', 'is_post_market']].values\n",
    "combined_features = np.hstack((tfidf_features, heuristic_features))\n",
    "\n",
    "# Train-Test Split\n",
    "X_train, X_test, y_train, y_test = train_test_split(combined_features, df['Sentiment'], test_size=0.2, random_state=42)\n",
    "\n",
    "# Hyperparameter Tuning with GridSearchCV\n",
    "param_grid = {\n",
    "    'n_estimators': [100, 200, 300],  # Number of trees in the forest\n",
    "    'max_depth': [None, 10, 20, 30],  # Maximum depth of the tree\n",
    "    'min_samples_split': [2, 5, 10],  # Minimum samples required to split an internal node\n",
    "    'min_samples_leaf': [1, 2, 4],    # Minimum samples required at each leaf node\n",
    "    'max_features': ['sqrt', 'log2']  # Number of features to consider at each split\n",
    "}\n",
    "\n",
    "rf = RandomForestClassifier(class_weight='balanced',random_state=42)\n",
    "grid_search = GridSearchCV(estimator=rf, param_grid=param_grid, cv=3, scoring='f1_weighted', n_jobs=-1, verbose=2)\n",
    "grid_search.fit(X_train, y_train)\n",
    "\n",
    "# Best Parameters\n",
    "print(\"Best Parameters:\", grid_search.best_params_)\n",
    "\n",
    "# Model Evaluation\n",
    "best_rf = grid_search.best_estimator_\n",
    "y_pred = best_rf.predict(X_test)\n",
    "print(classification_report(y_test, y_pred))"
   ]
  },
  {
   "cell_type": "code",
   "execution_count": null,
   "id": "a88b613a",
   "metadata": {},
   "outputs": [],
   "source": []
  },
  {
   "cell_type": "code",
   "execution_count": null,
   "id": "b4a7f145",
   "metadata": {},
   "outputs": [],
   "source": []
  },
  {
   "cell_type": "code",
   "execution_count": null,
   "id": "815ec442",
   "metadata": {},
   "outputs": [],
   "source": []
  },
  {
   "cell_type": "code",
   "execution_count": null,
   "id": "f25bba42",
   "metadata": {},
   "outputs": [],
   "source": []
  }
 ],
 "metadata": {
  "kernelspec": {
   "display_name": "Python 3 (ipykernel)",
   "language": "python",
   "name": "python3"
  },
  "language_info": {
   "codemirror_mode": {
    "name": "ipython",
    "version": 3
   },
   "file_extension": ".py",
   "mimetype": "text/x-python",
   "name": "python",
   "nbconvert_exporter": "python",
   "pygments_lexer": "ipython3",
   "version": "3.11.4"
  }
 },
 "nbformat": 4,
 "nbformat_minor": 5
}
